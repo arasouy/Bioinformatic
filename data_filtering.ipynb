{
  "nbformat": 4,
  "nbformat_minor": 0,
  "metadata": {
    "colab": {
      "provenance": [],
      "authorship_tag": "ABX9TyPN3qnXo4PeYnbu87U9H3Aj",
      "include_colab_link": true
    },
    "kernelspec": {
      "name": "python3",
      "display_name": "Python 3"
    },
    "language_info": {
      "name": "python"
    }
  },
  "cells": [
    {
      "cell_type": "markdown",
      "metadata": {
        "id": "view-in-github",
        "colab_type": "text"
      },
      "source": [
        "<a href=\"https://colab.research.google.com/github/arasouy/Bioinformatic/blob/main/data_filtering.ipynb\" target=\"_parent\"><img src=\"https://colab.research.google.com/assets/colab-badge.svg\" alt=\"Open In Colab\"/></a>"
      ]
    },
    {
      "cell_type": "code",
      "execution_count": 2,
      "metadata": {
        "colab": {
          "base_uri": "https://localhost:8080/"
        },
        "id": "ErT7BZtqvfA5",
        "outputId": "9844bd8a-81ac-44de-9959-e144c115247b"
      },
      "outputs": [
        {
          "output_type": "stream",
          "name": "stdout",
          "text": [
            "Mounted at /content/drive\n"
          ]
        }
      ],
      "source": [
        "from google.colab import drive\n",
        "drive.mount('/content/drive')"
      ]
    },
    {
      "cell_type": "code",
      "source": [
        "!pip install pandas"
      ],
      "metadata": {
        "colab": {
          "base_uri": "https://localhost:8080/"
        },
        "id": "3sWdbGDqybuB",
        "outputId": "ff7af63d-0dea-49e0-ef0d-88a1e650d7d6"
      },
      "execution_count": 3,
      "outputs": [
        {
          "output_type": "stream",
          "name": "stdout",
          "text": [
            "Requirement already satisfied: pandas in /usr/local/lib/python3.10/dist-packages (1.5.3)\n",
            "Requirement already satisfied: python-dateutil>=2.8.1 in /usr/local/lib/python3.10/dist-packages (from pandas) (2.8.2)\n",
            "Requirement already satisfied: pytz>=2020.1 in /usr/local/lib/python3.10/dist-packages (from pandas) (2023.3)\n",
            "Requirement already satisfied: numpy>=1.21.0 in /usr/local/lib/python3.10/dist-packages (from pandas) (1.23.5)\n",
            "Requirement already satisfied: six>=1.5 in /usr/local/lib/python3.10/dist-packages (from python-dateutil>=2.8.1->pandas) (1.16.0)\n"
          ]
        }
      ]
    },
    {
      "cell_type": "code",
      "source": [
        "#filter the data\n",
        "import pandas as pd\n",
        "file=pd.read_csv('/content/drive/MyDrive/all_gene_disease_associations (1).tsv',sep='\\t')\n",
        "colonnes = ['geneId','diseaseName']\n",
        "datalymphomagene=(file.loc[file['diseaseName'].isin(['Multiple Myeloma']),colonnes])\n",
        "#just an exemple for diseases\n",
        "#omit the index\n",
        "datalymphomagene.reset_index(inplace=True, drop=True)\n",
        "#save the new data\n",
        "datalymphomagene.to_csv('datalymyeloma.csv')\n",
        "!cp datalymyeloma.csv drive/My\\ Drive/\n"
      ],
      "metadata": {
        "id": "V3vW9m3hvgK3"
      },
      "execution_count": 4,
      "outputs": []
    },
    {
      "cell_type": "code",
      "source": [
        "data=pd.read_csv('/content/drive/MyDrive/datalymyeloma.csv')\n",
        "print(data)"
      ],
      "metadata": {
        "colab": {
          "base_uri": "https://localhost:8080/"
        },
        "id": "hqgTaCdjy5VP",
        "outputId": "b2c1ea00-5aa8-4371-d998-74bfc7acc760"
      },
      "execution_count": 19,
      "outputs": [
        {
          "output_type": "stream",
          "name": "stdout",
          "text": [
            "      Unnamed: 0     geneId       diseaseName\n",
            "0              0          9  Multiple Myeloma\n",
            "1              1         10  Multiple Myeloma\n",
            "2              2         25  Multiple Myeloma\n",
            "3              3         28  Multiple Myeloma\n",
            "4              4         54  Multiple Myeloma\n",
            "...          ...        ...               ...\n",
            "1306        1306  101060399  Multiple Myeloma\n",
            "1307        1307  102723407  Multiple Myeloma\n",
            "1308        1308  102724428  Multiple Myeloma\n",
            "1309        1309  102724560  Multiple Myeloma\n",
            "1310        1310  105379528  Multiple Myeloma\n",
            "\n",
            "[1311 rows x 3 columns]\n"
          ]
        }
      ]
    },
    {
      "cell_type": "code",
      "source": [
        "!pip install Biopython"
      ],
      "metadata": {
        "colab": {
          "base_uri": "https://localhost:8080/"
        },
        "id": "7W21Q4xMwVvp",
        "outputId": "783b47fe-a65d-41df-9a2d-512987a4e363"
      },
      "execution_count": 7,
      "outputs": [
        {
          "output_type": "stream",
          "name": "stdout",
          "text": [
            "Collecting Biopython\n",
            "  Downloading biopython-1.81-cp310-cp310-manylinux_2_17_x86_64.manylinux2014_x86_64.whl (3.1 MB)\n",
            "\u001b[2K     \u001b[90m━━━━━━━━━━━━━━━━━━━━━━━━━━━━━━━━━━━━━━━━\u001b[0m \u001b[32m3.1/3.1 MB\u001b[0m \u001b[31m14.1 MB/s\u001b[0m eta \u001b[36m0:00:00\u001b[0m\n",
            "\u001b[?25hRequirement already satisfied: numpy in /usr/local/lib/python3.10/dist-packages (from Biopython) (1.23.5)\n",
            "Installing collected packages: Biopython\n",
            "Successfully installed Biopython-1.81\n"
          ]
        }
      ]
    },
    {
      "cell_type": "code",
      "source": [
        "from Bio import Entrez\n",
        "from Bio import SeqIO\n",
        "\n",
        "#get the location of genes from ncbi\n",
        "def search(name):\n",
        "  Entrez.email = \"hamoudayousra1@gmail.com\"\n",
        "  handle = Entrez.efetch(db=\"gene\", id=name, rettype=\"gb\",retmode=\"text\")\n",
        "  text = handle.read()\n",
        "  d = text.split(\"\\n\")\n",
        "  aaa=''\n",
        "  for st in d :\n",
        "   if \"Annotation:\" in st:\n",
        "    aaa = st\n",
        "  return(aaa)\n",
        "\n",
        "def transform(s):\n",
        "  l = s.split( )\n",
        "  aa = \"chr\"+l[2]+\"\\t\"+l[4].split(\"..\")[0].replace(\"(\",\"\")+\"\\t\"+l[4].split(\"..\")[1].replace(\", complement)\",\"\").replace(\",\",\"\").replace(\")\",\"\")\n",
        "  t=aa.split('\t')\n",
        "  return t\n",
        "'''v=search(2056)\n",
        "res = transform(v)\n",
        "print(res)\n",
        "print(res[1])'''"
      ],
      "metadata": {
        "id": "NJzxlE-wwWFt",
        "colab": {
          "base_uri": "https://localhost:8080/"
        },
        "outputId": "0cb38b7f-0bc3-4d0c-bd54-658cc01bdc00"
      },
      "execution_count": 18,
      "outputs": [
        {
          "output_type": "stream",
          "name": "stdout",
          "text": [
            "['chr7', '100720468', '100723700']\n",
            "100720468\n"
          ]
        }
      ]
    },
    {
      "cell_type": "code",
      "source": [
        "#get location of all genes\n",
        "from csv import writer\n",
        "from csv import reader\n",
        "import csv\n",
        "#get the location of genes from ncbi\n",
        "\n",
        "\n",
        "c=''\n",
        "with open('/content/drive/MyDrive/datalymyeloma.csv', 'r+')as file,open('/content/drive/My Drive/myelomalocation.csv', 'wt') as f:\n",
        "  #print(file.read())\n",
        "  csv_reader = reader(file)\n",
        "  csv_writer=csv.writer(f)\n",
        " # Read each row of the input csv file as list\n",
        "\n",
        "\n",
        "  for row in csv_reader:\n",
        "    if(row[1]==\"geneId\"):\n",
        "      row.append('ch')\n",
        "      row.append('begin')\n",
        "      row.append('end')\n",
        "      csv_writer.writerow([row[1],row[2],row[3],row[4],row[5]])\n",
        "    else:\n",
        "      name=str(row[1])\n",
        "      c=search(name)\n",
        "      if c!='':\n",
        "        res=transform(c)\n",
        "        row.append(res[0])\n",
        "        row.append(res[1])\n",
        "        row.append(res[2])\n",
        "      #print(row)\n",
        "        csv_writer.writerow([row[1],row[2],row[3],row[4],row[5]])\n"
      ],
      "metadata": {
        "colab": {
          "base_uri": "https://localhost:8080/",
          "height": 401
        },
        "id": "aA7dBsXfwbtj",
        "outputId": "31a3a30e-ed13-49c3-fc13-d9ad755dd439"
      },
      "execution_count": 13,
      "outputs": [
        {
          "output_type": "error",
          "ename": "IndexError",
          "evalue": "ignored",
          "traceback": [
            "\u001b[0;31m---------------------------------------------------------------------------\u001b[0m",
            "\u001b[0;31mIndexError\u001b[0m                                Traceback (most recent call last)",
            "\u001b[0;32m<ipython-input-13-f8954b75a066>\u001b[0m in \u001b[0;36m<cell line: 9>\u001b[0;34m()\u001b[0m\n\u001b[1;32m     24\u001b[0m       \u001b[0mc\u001b[0m\u001b[0;34m=\u001b[0m\u001b[0msearch\u001b[0m\u001b[0;34m(\u001b[0m\u001b[0mname\u001b[0m\u001b[0;34m)\u001b[0m\u001b[0;34m\u001b[0m\u001b[0;34m\u001b[0m\u001b[0m\n\u001b[1;32m     25\u001b[0m       \u001b[0;32mif\u001b[0m \u001b[0mc\u001b[0m\u001b[0;34m!=\u001b[0m\u001b[0;34m''\u001b[0m\u001b[0;34m:\u001b[0m\u001b[0;34m\u001b[0m\u001b[0;34m\u001b[0m\u001b[0m\n\u001b[0;32m---> 26\u001b[0;31m         \u001b[0mres\u001b[0m\u001b[0;34m=\u001b[0m\u001b[0mtransform\u001b[0m\u001b[0;34m(\u001b[0m\u001b[0mc\u001b[0m\u001b[0;34m)\u001b[0m\u001b[0;34m\u001b[0m\u001b[0;34m\u001b[0m\u001b[0m\n\u001b[0m\u001b[1;32m     27\u001b[0m         \u001b[0mrow\u001b[0m\u001b[0;34m.\u001b[0m\u001b[0mappend\u001b[0m\u001b[0;34m(\u001b[0m\u001b[0mres\u001b[0m\u001b[0;34m[\u001b[0m\u001b[0;36m0\u001b[0m\u001b[0;34m]\u001b[0m\u001b[0;34m)\u001b[0m\u001b[0;34m\u001b[0m\u001b[0;34m\u001b[0m\u001b[0m\n\u001b[1;32m     28\u001b[0m         \u001b[0mrow\u001b[0m\u001b[0;34m.\u001b[0m\u001b[0mappend\u001b[0m\u001b[0;34m(\u001b[0m\u001b[0mres\u001b[0m\u001b[0;34m[\u001b[0m\u001b[0;36m1\u001b[0m\u001b[0;34m]\u001b[0m\u001b[0;34m)\u001b[0m\u001b[0;34m\u001b[0m\u001b[0;34m\u001b[0m\u001b[0m\n",
            "\u001b[0;32m<ipython-input-10-e0257705951d>\u001b[0m in \u001b[0;36mtransform\u001b[0;34m(s)\u001b[0m\n\u001b[1;32m     16\u001b[0m \u001b[0;32mdef\u001b[0m \u001b[0mtransform\u001b[0m\u001b[0;34m(\u001b[0m\u001b[0ms\u001b[0m\u001b[0;34m)\u001b[0m\u001b[0;34m:\u001b[0m\u001b[0;34m\u001b[0m\u001b[0;34m\u001b[0m\u001b[0m\n\u001b[1;32m     17\u001b[0m   \u001b[0ml\u001b[0m \u001b[0;34m=\u001b[0m \u001b[0ms\u001b[0m\u001b[0;34m.\u001b[0m\u001b[0msplit\u001b[0m\u001b[0;34m(\u001b[0m \u001b[0;34m)\u001b[0m\u001b[0;34m\u001b[0m\u001b[0;34m\u001b[0m\u001b[0m\n\u001b[0;32m---> 18\u001b[0;31m   \u001b[0maa\u001b[0m \u001b[0;34m=\u001b[0m \u001b[0;34m\"chr\"\u001b[0m\u001b[0;34m+\u001b[0m\u001b[0ml\u001b[0m\u001b[0;34m[\u001b[0m\u001b[0;36m2\u001b[0m\u001b[0;34m]\u001b[0m\u001b[0;34m+\u001b[0m\u001b[0;34m\"\\t\"\u001b[0m\u001b[0;34m+\u001b[0m\u001b[0ml\u001b[0m\u001b[0;34m[\u001b[0m\u001b[0;36m4\u001b[0m\u001b[0;34m]\u001b[0m\u001b[0;34m.\u001b[0m\u001b[0msplit\u001b[0m\u001b[0;34m(\u001b[0m\u001b[0;34m\"..\"\u001b[0m\u001b[0;34m)\u001b[0m\u001b[0;34m[\u001b[0m\u001b[0;36m0\u001b[0m\u001b[0;34m]\u001b[0m\u001b[0;34m.\u001b[0m\u001b[0mreplace\u001b[0m\u001b[0;34m(\u001b[0m\u001b[0;34m\"(\"\u001b[0m\u001b[0;34m,\u001b[0m\u001b[0;34m\"\"\u001b[0m\u001b[0;34m)\u001b[0m\u001b[0;34m+\u001b[0m\u001b[0;34m\"\\t\"\u001b[0m\u001b[0;34m+\u001b[0m\u001b[0ml\u001b[0m\u001b[0;34m[\u001b[0m\u001b[0;36m4\u001b[0m\u001b[0;34m]\u001b[0m\u001b[0;34m.\u001b[0m\u001b[0msplit\u001b[0m\u001b[0;34m(\u001b[0m\u001b[0;34m\"..\"\u001b[0m\u001b[0;34m)\u001b[0m\u001b[0;34m[\u001b[0m\u001b[0;36m1\u001b[0m\u001b[0;34m]\u001b[0m\u001b[0;34m.\u001b[0m\u001b[0mreplace\u001b[0m\u001b[0;34m(\u001b[0m\u001b[0;34m\", complement)\"\u001b[0m\u001b[0;34m,\u001b[0m\u001b[0;34m\"\"\u001b[0m\u001b[0;34m)\u001b[0m\u001b[0;34m.\u001b[0m\u001b[0mreplace\u001b[0m\u001b[0;34m(\u001b[0m\u001b[0;34m\",\"\u001b[0m\u001b[0;34m,\u001b[0m\u001b[0;34m\"\"\u001b[0m\u001b[0;34m)\u001b[0m\u001b[0;34m.\u001b[0m\u001b[0mreplace\u001b[0m\u001b[0;34m(\u001b[0m\u001b[0;34m\")\"\u001b[0m\u001b[0;34m,\u001b[0m\u001b[0;34m\"\"\u001b[0m\u001b[0;34m)\u001b[0m\u001b[0;34m\u001b[0m\u001b[0;34m\u001b[0m\u001b[0m\n\u001b[0m\u001b[1;32m     19\u001b[0m   \u001b[0mt\u001b[0m\u001b[0;34m=\u001b[0m\u001b[0maa\u001b[0m\u001b[0;34m.\u001b[0m\u001b[0msplit\u001b[0m\u001b[0;34m(\u001b[0m\u001b[0;34m'  '\u001b[0m\u001b[0;34m)\u001b[0m\u001b[0;34m\u001b[0m\u001b[0;34m\u001b[0m\u001b[0m\n\u001b[1;32m     20\u001b[0m \u001b[0;34m\u001b[0m\u001b[0m\n",
            "\u001b[0;31mIndexError\u001b[0m: list index out of range"
          ]
        }
      ]
    },
    {
      "cell_type": "code",
      "source": [],
      "metadata": {
        "id": "ajRaDZJlzYmS"
      },
      "execution_count": null,
      "outputs": []
    }
  ]
}