{
  "nbformat": 4,
  "nbformat_minor": 0,
  "metadata": {
    "colab": {
      "provenance": [],
      "authorship_tag": "ABX9TyNePUQ977aRB+lZAk0shsS4",
      "include_colab_link": true
    },
    "kernelspec": {
      "name": "python3",
      "display_name": "Python 3"
    },
    "language_info": {
      "name": "python"
    }
  },
  "cells": [
    {
      "cell_type": "markdown",
      "metadata": {
        "id": "view-in-github",
        "colab_type": "text"
      },
      "source": [
        "<a href=\"https://colab.research.google.com/github/arasouy/Bioinformatic/blob/main/data_filtering.ipynb\" target=\"_parent\"><img src=\"https://colab.research.google.com/assets/colab-badge.svg\" alt=\"Open In Colab\"/></a>"
      ]
    },
    {
      "cell_type": "code",
      "execution_count": null,
      "metadata": {
        "id": "ErT7BZtqvfA5"
      },
      "outputs": [],
      "source": [
        "from google.colab import drive\n",
        "drive.mount('/content/drive')"
      ]
    },
    {
      "cell_type": "code",
      "source": [
        "!pip install pandas"
      ],
      "metadata": {
        "id": "3sWdbGDqybuB"
      },
      "execution_count": null,
      "outputs": []
    },
    {
      "cell_type": "code",
      "source": [
        "#filter the data\n",
        "import pandas as pd\n",
        "file=pd.read_csv('/content/drive/MyDrive/all_gene_disease_associations (1).tsv',sep='\\t')\n",
        "colonnes = ['geneId','diseaseName']\n",
        "datalymphomagene=(file.loc[file['diseaseName'].isin(['Multiple Myeloma']),colonnes])\n",
        "#just an exemple for diseases\n",
        "#omit the index\n",
        "datalymphomagene.reset_index(inplace=True, drop=True)\n",
        "#save the new data\n",
        "datalymphomagene.to_csv('datalymyeloma.csv')\n",
        "!cp datalymyeloma.csv drive/My\\ Drive/\n"
      ],
      "metadata": {
        "id": "V3vW9m3hvgK3"
      },
      "execution_count": null,
      "outputs": []
    },
    {
      "cell_type": "code",
      "source": [
        "data=pd.read_csv('/content/drive/MyDrive/datalymyeloma.csv')\n",
        "print(data)"
      ],
      "metadata": {
        "colab": {
          "base_uri": "https://localhost:8080/"
        },
        "id": "hqgTaCdjy5VP",
        "outputId": "b2c1ea00-5aa8-4371-d998-74bfc7acc760"
      },
      "execution_count": null,
      "outputs": [
        {
          "output_type": "stream",
          "name": "stdout",
          "text": [
            "      Unnamed: 0     geneId       diseaseName\n",
            "0              0          9  Multiple Myeloma\n",
            "1              1         10  Multiple Myeloma\n",
            "2              2         25  Multiple Myeloma\n",
            "3              3         28  Multiple Myeloma\n",
            "4              4         54  Multiple Myeloma\n",
            "...          ...        ...               ...\n",
            "1306        1306  101060399  Multiple Myeloma\n",
            "1307        1307  102723407  Multiple Myeloma\n",
            "1308        1308  102724428  Multiple Myeloma\n",
            "1309        1309  102724560  Multiple Myeloma\n",
            "1310        1310  105379528  Multiple Myeloma\n",
            "\n",
            "[1311 rows x 3 columns]\n"
          ]
        }
      ]
    },
    {
      "cell_type": "code",
      "source": [
        "!pip install Biopython"
      ],
      "metadata": {
        "colab": {
          "base_uri": "https://localhost:8080/"
        },
        "id": "7W21Q4xMwVvp",
        "outputId": "d720681e-b421-4a6d-b9d8-bb958a934249"
      },
      "execution_count": null,
      "outputs": [
        {
          "output_type": "stream",
          "name": "stdout",
          "text": [
            "Collecting Biopython\n",
            "  Downloading biopython-1.81-cp310-cp310-manylinux_2_17_x86_64.manylinux2014_x86_64.whl (3.1 MB)\n",
            "\u001b[2K     \u001b[90m━━━━━━━━━━━━━━━━━━━━━━━━━━━━━━━━━━━━━━━━\u001b[0m \u001b[32m3.1/3.1 MB\u001b[0m \u001b[31m13.9 MB/s\u001b[0m eta \u001b[36m0:00:00\u001b[0m\n",
            "\u001b[?25hRequirement already satisfied: numpy in /usr/local/lib/python3.10/dist-packages (from Biopython) (1.23.5)\n",
            "Installing collected packages: Biopython\n",
            "Successfully installed Biopython-1.81\n"
          ]
        }
      ]
    },
    {
      "cell_type": "code",
      "source": [
        "from Bio import Entrez\n",
        "from Bio import SeqIO\n",
        "\n",
        "#get the location of genes from ncbi\n",
        "def search(name):\n",
        "  Entrez.email = \"hamoudayousra1@gmail.com\"\n",
        "  handle = Entrez.efetch(db=\"gene\", id=name, rettype=\"gb\",retmode=\"text\")\n",
        "  text = handle.read()\n",
        "  d = text.split(\"\\n\")\n",
        "  aaa=''\n",
        "  for st in d :\n",
        "   if \"Annotation:\" in st:\n",
        "    aaa = st\n",
        "  return(aaa)\n",
        "\n",
        "def transform(s):\n",
        "  l = s.split( )\n",
        "  aa = \"chr\"+l[2]+\"\\t\"+l[4].split(\"..\")[0].replace(\"(\",\"\")+\"\\t\"+l[4].split(\"..\")[1].replace(\", complement)\",\"\").replace(\",\",\"\").replace(\")\",\"\")\n",
        "  t=aa.split('\t')\n",
        "  return t\n",
        "'''v=search(2056)\n",
        "res = transform(v)\n",
        "print(res)\n",
        "print(res[1])'''"
      ],
      "metadata": {
        "id": "NJzxlE-wwWFt",
        "colab": {
          "base_uri": "https://localhost:8080/"
        },
        "outputId": "0cb38b7f-0bc3-4d0c-bd54-658cc01bdc00"
      },
      "execution_count": null,
      "outputs": [
        {
          "output_type": "stream",
          "name": "stdout",
          "text": [
            "['chr7', '100720468', '100723700']\n",
            "100720468\n"
          ]
        }
      ]
    },
    {
      "cell_type": "code",
      "source": [],
      "metadata": {
        "id": "ajRaDZJlzYmS"
      },
      "execution_count": null,
      "outputs": []
    },
    {
      "cell_type": "code",
      "source": [
        "#get location of all genes\n",
        "from csv import writer\n",
        "from csv import reader\n",
        "import csv\n",
        "#get the location of genes from ncbi\n",
        "\n",
        "\n",
        "c=''\n",
        "with open('/content/drive/MyDrive/datalymyeloma.csv', 'r+')as file,open('/content/drive/My Drive/myelomalocation.csv', 'wt') as f:\n",
        "  #print(file.read())\n",
        "  csv_reader = reader(file)\n",
        "  csv_writer=csv.writer(f)\n",
        " # Read each row of the input csv file as list\n",
        "\n",
        "\n",
        "  for row in csv_reader:\n",
        "    if(row[1]==\"geneId\"):\n",
        "      row.append('ch')\n",
        "      row.append('begin')\n",
        "      row.append('end')\n",
        "      csv_writer.writerow([row[1],row[2],row[3],row[4],row[5]])\n",
        "    else:\n",
        "      name=str(row[1])\n",
        "      c=search(name)\n",
        "      if c!='':\n",
        "        res=transform(c)\n",
        "        row.append(res[0])\n",
        "        row.append(res[1])\n",
        "        row.append(res[2])\n",
        "      #print(row)\n",
        "        csv_writer.writerow([row[1],row[2],row[3],row[4],row[5]])\n"
      ],
      "metadata": {
        "id": "aA7dBsXfwbtj"
      },
      "execution_count": null,
      "outputs": []
    }
  ]
}