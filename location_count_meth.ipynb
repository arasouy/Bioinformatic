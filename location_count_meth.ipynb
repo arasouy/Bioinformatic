{
  "nbformat": 4,
  "nbformat_minor": 0,
  "metadata": {
    "colab": {
      "provenance": [],
      "include_colab_link": true
    },
    "kernelspec": {
      "name": "python3",
      "display_name": "Python 3"
    }
  },
  "cells": [
    {
      "cell_type": "markdown",
      "metadata": {
        "id": "view-in-github",
        "colab_type": "text"
      },
      "source": [
        "<a href=\"https://colab.research.google.com/github/arasouy/Bioinformatic/blob/main/location_count_meth.ipynb\" target=\"_parent\"><img src=\"https://colab.research.google.com/assets/colab-badge.svg\" alt=\"Open In Colab\"/></a>"
      ]
    },
    {
      "cell_type": "code",
      "metadata": {
        "id": "aHMk_NeM49dC"
      },
      "source": [
        "from csv import writer\n",
        "from csv import reader\n",
        "from Bio import Entrez\n",
        "from Bio import SeqIO\n",
        "import csv\n",
        "#get the location of genes from ncbi\n",
        "def search(name):\n",
        "  Entrez.email = \"hamoudayousra1@gmail.com\"\n",
        "  handle =Entrez.efetch(db=\"gene\", id=name, rettype=\"gb\",retmode=\"text\")\n",
        "  text = handle.read()\n",
        "  d = text.split(\"\\n\")\n",
        "  aaa=''\n",
        "  for st in d :\n",
        "   if \"Annotation:\" in st:\n",
        "    aaa = st\n",
        "  return(aaa)\n",
        "\n",
        "def transform(s):\n",
        "  l = s.split( )\n",
        "  aa = \"chr\"+l[2]+\"\\t\"+l[4].split(\"..\")[0].replace(\"(\",\"\")+\"\\t\"+l[4].split(\"..\")[1].replace(\", complement)\",\"\").replace(\",\",\"\").replace(\")\",\"\")\n",
        "  t=aa.split('\t')\n",
        "\n",
        "  return t\n",
        "\n",
        "c=''\n",
        "with open('/content/drive/My Drive/datalymphomagene.csv', 'r+')as file,open('/content/drive/My Drive/lymphomelocation1.csv', 'wt') as f:\n",
        "  #print(file.read())\n",
        "  csv_reader = reader(file)\n",
        "  csv_writer=csv.writer(f)\n",
        " # Read each row of the input csv file as list\n",
        "\n",
        "\n",
        "  for row in csv_reader:\n",
        "    if(row[1]==\"geneId\"):\n",
        "      row.append('ch')\n",
        "      row.append('begin')\n",
        "      row.append('end')\n",
        "      csv_writer.writerow([row[1],row[2],row[3],row[4],row[5]])\n",
        "    else:\n",
        "      name=str(row[1])\n",
        "      c=search(name)\n",
        "    if c!='':\n",
        "      res=transform(c)\n",
        "      row.append(res[0])\n",
        "      row.append(res[1])\n",
        "      row.append(res[2])\n",
        "      #print(row)\n",
        "      csv_writer.writerow([row[1],row[2],row[3],row[4],row[5]])\n",
        "    #[row[1],row[2],row[3],"
      ],
      "execution_count": null,
      "outputs": []
    },
    {
      "cell_type": "code",
      "source": [
        "from google.colab import drive\n",
        "drive.mount('/content/drive')"
      ],
      "metadata": {
        "colab": {
          "base_uri": "https://localhost:8080/"
        },
        "id": "L4Mgk4Bubr5i",
        "outputId": "ab5394b9-f963-4a23-e601-58bf46c28947"
      },
      "execution_count": null,
      "outputs": [
        {
          "output_type": "stream",
          "name": "stdout",
          "text": [
            "Mounted at /content/drive\n"
          ]
        }
      ]
    },
    {
      "cell_type": "code",
      "metadata": {
        "id": "P9BJeNuaC-g7",
        "colab": {
          "base_uri": "https://localhost:8080/"
        },
        "outputId": "fca38e49-c7f3-4633-96c3-159677eb2fb8"
      },
      "source": [
        "pip install biopython"
      ],
      "execution_count": null,
      "outputs": [
        {
          "output_type": "stream",
          "name": "stdout",
          "text": [
            "Collecting biopython\n",
            "  Downloading biopython-1.81-cp310-cp310-manylinux_2_17_x86_64.manylinux2014_x86_64.whl (3.1 MB)\n",
            "\u001b[2K     \u001b[90m━━━━━━━━━━━━━━━━━━━━━━━━━━━━━━━━━━━━━━━━\u001b[0m \u001b[32m3.1/3.1 MB\u001b[0m \u001b[31m10.2 MB/s\u001b[0m eta \u001b[36m0:00:00\u001b[0m\n",
            "\u001b[?25hRequirement already satisfied: numpy in /usr/local/lib/python3.10/dist-packages (from biopython) (1.23.5)\n",
            "Installing collected packages: biopython\n",
            "Successfully installed biopython-1.81\n"
          ]
        }
      ]
    },
    {
      "cell_type": "code",
      "metadata": {
        "id": "LVcuOHmIU543",
        "colab": {
          "base_uri": "https://localhost:8080/",
          "height": 272
        },
        "outputId": "aeb9a615-6fbb-49e3-cec2-68aed82b5ca6"
      },
      "source": [
        "import pandas as pd\n",
        "data=pd.read_csv(\"/content/drive/My Drive/lymphomelocation.csv\")\n",
        "print(data)"
      ],
      "execution_count": null,
      "outputs": [
        {
          "output_type": "stream",
          "text": [
            "         geneId       diseaseName     ch      begin        end\n",
            "0             9  Multiple Myeloma   chr8   18170419   18223689\n",
            "1            10  Multiple Myeloma   chr8   18386585   18401219\n",
            "2            25  Multiple Myeloma   chr9  130713881  130887675\n",
            "3            28  Multiple Myeloma   chr9  133250401  133275201\n",
            "4            54  Multiple Myeloma  chr19   11574660   11578983\n",
            "...         ...               ...    ...        ...        ...\n",
            "1284  100532746  Multiple Myeloma   chr6   32153999   32168285\n",
            "1285  100616436  Multiple Myeloma   chr4   52712682   52712747\n",
            "1286  100689229  Multiple Myeloma   chr3  109408516  109410202\n",
            "1287  102724428  Multiple Myeloma  chr21    6111131    6123778\n",
            "1288  102724560  Multiple Myeloma  chr21    6444868    6468621\n",
            "\n",
            "[1289 rows x 5 columns]\n"
          ],
          "name": "stdout"
        }
      ]
    },
    {
      "cell_type": "code",
      "metadata": {
        "id": "c7k65btXRkP6",
        "colab": {
          "base_uri": "https://localhost:8080/",
          "height": 272
        },
        "outputId": "9f4026b0-8796-4b5d-9875-32d2aaf44f67"
      },
      "source": [
        "import pandas as pd\n",
        "data=pd.read_csv(\"/content/drive/My Drive/myelomalocation.csv\")\n",
        "print(data)"
      ],
      "execution_count": null,
      "outputs": [
        {
          "output_type": "stream",
          "text": [
            "         geneId       diseaseName     ch      begin        end\n",
            "0             9  Multiple Myeloma   chr8   18170419   18223689\n",
            "1            10  Multiple Myeloma   chr8   18386585   18401219\n",
            "2            25  Multiple Myeloma   chr9  130713881  130887675\n",
            "3            28  Multiple Myeloma   chr9  133250401  133275201\n",
            "4            54  Multiple Myeloma  chr19   11574660   11578983\n",
            "...         ...               ...    ...        ...        ...\n",
            "1284  100532746  Multiple Myeloma   chr6   32153999   32168285\n",
            "1285  100616436  Multiple Myeloma   chr4   52712682   52712747\n",
            "1286  100689229  Multiple Myeloma   chr3  109408516  109410202\n",
            "1287  102724428  Multiple Myeloma  chr21    6111131    6123778\n",
            "1288  102724560  Multiple Myeloma  chr21    6444868    6468621\n",
            "\n",
            "[1289 rows x 5 columns]\n"
          ],
          "name": "stdout"
        }
      ]
    },
    {
      "cell_type": "code",
      "metadata": {
        "id": "MZToyRzvvvMI"
      },
      "source": [
        "#count methylation\n",
        "def meth2(row,ligne):\n",
        "\n",
        "  meth=0\n",
        "\n",
        "  if ( int(row[3]) <= int(ligne[1])) and (int(row[4])>= int(ligne[1])) :\n",
        "\n",
        "\n",
        "    meth=1\n",
        "  return(int(meth))\n",
        "\n",
        "\n",
        "\n",
        "def meth150(row,ligne):\n",
        "  meth150=0\n",
        "  a=int(row[3])-150\n",
        "  if a<0:\n",
        "    a=0\n",
        "  if (a <= int(ligne[1])) and (int(row[3]) >= int(ligne[1])):\n",
        "\n",
        "    meth150=1\n",
        "  return(int(meth150))\n",
        "\n",
        "\n",
        "def meth1500(row,ligne):\n",
        "  meth1500=0\n",
        "  g=int(row[3])\n",
        "  if g-1500 <0:\n",
        "    g=0\n",
        "  if (g <=int(ligne[1])) and (int(row[3]) >= int(ligne[1])):\n",
        "    meth1500=1\n",
        "\n",
        "  return(int(meth1500))"
      ],
      "execution_count": null,
      "outputs": []
    },
    {
      "cell_type": "code",
      "metadata": {
        "id": "Hp73Z5ysfj6m"
      },
      "source": [
        "#create a new file ,count methylation\n",
        "import csv\n",
        "from csv import writer\n",
        "from csv import reader\n",
        "\n",
        "\n",
        "with open(\"/content/drive/My Drive/myelomalocation.csv\",'r') as leu ,open('/content/drive/My Drive/nbrmethylationmyeloma.csv','wt') as m :\n",
        "\n",
        "  #blue= reader(b)\n",
        "  loc = reader(leu)\n",
        "  met=csv.writer(m)\n",
        "\n",
        "  for row in loc:\n",
        "\n",
        "    me=0\n",
        "    ts=0\n",
        "    tss=0\n",
        "\n",
        "\n",
        "\n",
        "    if row[3] =='begin':\n",
        "      row.append('genM')\n",
        "      row.append('tss150M')\n",
        "      row.append('tss1500M')\n",
        "      row.append('rapport')\n",
        "      met.writerow([row[5],row[6],row[7],row[8]])\n",
        "    else:\n",
        "      nbr=(int(row[4]))-(int(row[3]))+1\n",
        "      with open('/content/drive/My Drive/Control1_AC')as b:\n",
        "        for l in b:\n",
        "          ligne =l.strip().split()\n",
        "          if ligne[0] != 'chr' :\n",
        "\n",
        "            if (row[2]==ligne[0]) :\n",
        "              me=meth2(row,ligne)+me\n",
        "            #print(me)\n",
        "              ts=meth150(row,ligne)+ts\n",
        "              tss=meth1500(row,ligne)+tss\n",
        "\n",
        "\n",
        "      locus=me+tss\n",
        "\n",
        "      rapport=locus/(nbr)\n",
        "\n",
        "      met.writerow([me,ts,tss,rapport])\n",
        "\n"
      ],
      "execution_count": null,
      "outputs": []
    },
    {
      "cell_type": "code",
      "metadata": {
        "id": "WcJ56Shtgieu",
        "colab": {
          "base_uri": "https://localhost:8080/",
          "height": 272
        },
        "outputId": "26b08054-e3fd-4e39-d6ec-8bd93c739b8e"
      },
      "source": [
        "import pandas as pd\n",
        "data=pd.read_csv('/content/drive/My Drive/nbrmethylationlymphoma.csv')\n",
        "print(data)"
      ],
      "execution_count": null,
      "outputs": [
        {
          "output_type": "stream",
          "text": [
            "      genM  tss150M  tss1500M   rapport\n",
            "0      408        1         0  0.007659\n",
            "1      134        1         0  0.009156\n",
            "2     3765        3         0  0.021663\n",
            "3      611        3         0  0.024636\n",
            "4      254        2         0  0.018934\n",
            "...    ...      ...       ...       ...\n",
            "1279    28        0         0  0.009189\n",
            "1280   760        2         0  0.025425\n",
            "1281   341        1         0  0.009023\n",
            "1282   129        0         0  0.008541\n",
            "1283     1        0         0  0.020408\n",
            "\n",
            "[1284 rows x 4 columns]\n"
          ],
          "name": "stdout"
        }
      ]
    }
  ]
}