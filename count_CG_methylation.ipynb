{
  "nbformat": 4,
  "nbformat_minor": 0,
  "metadata": {
    "colab": {
      "provenance": [],
      "include_colab_link": true
    },
    "kernelspec": {
      "name": "python3",
      "display_name": "Python 3"
    }
  },
  "cells": [
    {
      "cell_type": "markdown",
      "metadata": {
        "id": "view-in-github",
        "colab_type": "text"
      },
      "source": [
        "<a href=\"https://colab.research.google.com/github/arasouy/Bioinformatic/blob/main/count_CG_methylation.ipynb\" target=\"_parent\"><img src=\"https://colab.research.google.com/assets/colab-badge.svg\" alt=\"Open In Colab\"/></a>"
      ]
    },
    {
      "cell_type": "code",
      "metadata": {
        "id": "TYFjh_yy6p9r"
      },
      "source": [
        "from Bio import Entrez, SeqIO\n",
        "#Get the sequence\n",
        "def requete(di,begin,end):\n",
        "  Entrez.email = \"hamoudayousra1@gmail.com\"\n",
        "  handle = Entrez.efetch(db=\"Nucleotide\",id=di, rettype=\"fasta\",strand=1,seq_start=begin, seq_stop=end)\n",
        "  #id du chr\n",
        "  record = SeqIO.read(handle, \"fasta\")\n",
        "  seq=record.seq\n",
        "  handle.close()\n",
        "  return(seq)"
      ],
      "execution_count": null,
      "outputs": []
    },
    {
      "cell_type": "code",
      "metadata": {
        "id": "nM5vupw1QoVx"
      },
      "source": [
        "#test\n",
        "from csv import reader\n",
        "with open('/content/drive/My Drive/leukemialoc.csv','r') as leu :\n",
        "  r=[]\n",
        "  #blue= reader(b)\n",
        "  loc = reader(leu)\n",
        "  for row in loc :\n",
        "    if row[3] !='begin':\n",
        "      with open('/content/drive/My Drive/chrID.csv')as d:\n",
        "          f=reader(d)\n",
        "\n",
        "          begin=int(row[3])\n",
        "          end=int(row[4])\n",
        "          for star in f :\n",
        "            st=list(star)\n",
        "            if row[2]==st[1]:\n",
        "              print('yes')\n",
        "              identifiant=st[2]\n",
        "          r=[begin,end,identifiant]\n",
        "          sequence=requete(identifiant,begin,end)\n",
        "          print(sequence)"
      ],
      "execution_count": null,
      "outputs": []
    },
    {
      "cell_type": "code",
      "metadata": {
        "id": "nv2CmQsJJCdZ"
      },
      "source": [
        "def ilots(seq):\n",
        "  i=0\n",
        "  nbrilots=0\n",
        "\n",
        "  while i<len(seq)-1 :\n",
        "    if seq[i]=='C' and seq[i+1]=='G' :\n",
        "      nbrilots=nbrilots+1\n",
        "    i=i+1\n",
        "  return (nbrilots)"
      ],
      "execution_count": null,
      "outputs": []
    },
    {
      "cell_type": "code",
      "metadata": {
        "id": "ZUKxpcG1viTT"
      },
      "source": [],
      "execution_count": null,
      "outputs": []
    },
    {
      "cell_type": "code",
      "metadata": {
        "id": "FR3Ss4FW7C9x"
      },
      "source": [
        "#count  methylation\n",
        "def meth2(row,ligne):\n",
        "\n",
        "  meth=0\n",
        "\n",
        "  if ( int(row[3]) <= int(ligne[1])) and (int(row[4])>= int(ligne[1])) :\n",
        "\n",
        "\n",
        "    meth=1\n",
        "    return(int(meth))\n",
        "  else:\n",
        "    return(int(meth))\n",
        "\n",
        "\n",
        "\n",
        "def meth150(row,ligne):\n",
        "  meth150=0\n",
        "  a=int(row[3])-150\n",
        "  if a<0:\n",
        "    a=0\n",
        "  if (a <= int(ligne[1])) and (int(row[3]) >= int(ligne[1])):\n",
        "\n",
        "    meth150=1\n",
        "  return(int(meth150))\n",
        "\n",
        "\n",
        "def meth1500(row,ligne):\n",
        "  meth1500=0\n",
        "  g=int(row[3])\n",
        "  if g-1500 <0:\n",
        "    g=0\n",
        "  if (g <=int(ligne[1])) and (int(row[3]) >= int(ligne[1])):\n",
        "    meth1500=1\n",
        "\n",
        "  return(int(meth1500))"
      ],
      "execution_count": null,
      "outputs": []
    },
    {
      "cell_type": "code",
      "metadata": {
        "id": "8-U7k6sr6xx4"
      },
      "source": [
        "pip install Biopython"
      ],
      "execution_count": null,
      "outputs": []
    },
    {
      "cell_type": "code",
      "metadata": {
        "id": "AsXtex_T7BFC"
      },
      "source": [
        "from csv import reader\n",
        "from csv import writer\n",
        "import csv\n",
        "\n",
        "with open('/content/drive/My Drive/leukemialoc.csv','r') as leu ,open('/content/drive/My Drive/CGmethleukemia.csv','wt') as m :\n",
        "\n",
        "  #blue= reader(b)\n",
        "  loc = reader(leu)\n",
        "  met=csv.writer(m)\n",
        "\n",
        "  for row in loc:\n",
        "    me=0\n",
        "    ts=0\n",
        "    tss=0\n",
        "    ile=0\n",
        "    identifiant=''\n",
        "    sequence=[]\n",
        "    if row[3] =='begin':\n",
        "      row.append('CG')\n",
        "      row.append('CGgeneM')\n",
        "      row.append('CG150M')\n",
        "      row.append('CG1500M')\n",
        "      row.append('rapport')\n",
        "      met.writerow([row[5],row[6],row[7],row[8],row[9]])\n",
        "    else:\n",
        "      begin=int(row[3])\n",
        "      end=int(row[4])\n",
        "      nbr=end-begin+1\n",
        "      with open('/content/drive/My Drive/chrID.csv')as d:\n",
        "        f=reader(d)\n",
        "\n",
        "        for star in f :\n",
        "          st=list(star)\n",
        "\n",
        "          if row[2]==st[1]:\n",
        "            identifiant=st[2]\n",
        "      sequence=requete(identifiant,begin,end)\n",
        "      ile=ilots(sequence)\n",
        "      with open('/content/drive/My Drive/Control1_AC')as b:\n",
        "        for l in b:\n",
        "          ligne=l.strip().split()\n",
        "          if ligne[0] != 'chr' :\n",
        "            if (row[2]==ligne[0]) :\n",
        "              if meth2(row,ligne)==1:\n",
        "                position=int(ligne[1])-int(row[3])+1\n",
        "                if position !=(len(sequence)):\n",
        "                  if sequence[position]=='C' and sequence[position+1]=='G' :\n",
        "                    me=me+1\n",
        "\n",
        "                  if meth150(row,ligne)==1:\n",
        "                    position=int(ligne[1])-int(row[3])+1\n",
        "                    if sequence[position]=='C' and sequence[position+1]=='G' :\n",
        "                      ts=ts+1\n",
        "\n",
        "                  if meth1500(row,ligne)==1:\n",
        "                    position=int(ligne[1])-int(row[3])+1\n",
        "                    if sequence[position]=='C' and sequence[position+1]=='G' :\n",
        "                      tss=tss+1\n",
        "\n",
        "      locus=me+tss\n",
        "      rapport=locus/(nbr)\n",
        "      met.writerow([ile,me,ts,tss,rapport])"
      ],
      "execution_count": null,
      "outputs": []
    },
    {
      "cell_type": "code",
      "metadata": {
        "id": "XqRai2ZzvAM5"
      },
      "source": [
        "from google.colab import drive\n",
        "drive.mount('/content/drive')"
      ],
      "execution_count": null,
      "outputs": []
    },
    {
      "cell_type": "code",
      "metadata": {
        "id": "EBVCyN_FQQvr",
        "outputId": "663b3811-65f0-4193-b043-b12a52004344",
        "colab": {
          "base_uri": "https://localhost:8080/",
          "height": 272
        }
      },
      "source": [
        "import pandas as pd\n",
        "data=pd.read_csv('/content/drive/My Drive/CGmethleukemia.csv')\n",
        "print(data)"
      ],
      "execution_count": null,
      "outputs": [
        {
          "output_type": "stream",
          "text": [
            "       CG  CGgeneM  CG150M  CG1500M   rapport\n",
            "0     468        5       0        0  0.000094\n",
            "1     161        0       0        0  0.000000\n",
            "2    1544        3       0        0  0.000020\n",
            "3    2712       49       0        0  0.000282\n",
            "4    1526       24       0        0  0.000184\n",
            "..    ...      ...     ...      ...       ...\n",
            "490   307        2       0        0  0.000078\n",
            "491   305        5       0        0  0.000534\n",
            "492   251        0       0        0  0.000000\n",
            "493   254        3       0        0  0.000229\n",
            "494   935       19       0        0  0.000518\n",
            "\n",
            "[495 rows x 5 columns]\n"
          ],
          "name": "stdout"
        }
      ]
    }
  ]
}